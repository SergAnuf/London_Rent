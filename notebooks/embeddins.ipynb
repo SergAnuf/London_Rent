{
 "cells": [
  {
   "cell_type": "code",
   "execution_count": 1,
   "metadata": {},
   "outputs": [],
   "source": [
    "import pandas as pd\n",
    "import re\n",
    "from nltk.corpus import stopwords\n",
    "from nltk.stem import WordNetLemmatizer\n",
    "from nltk.tokenize import word_tokenize\n",
    "import nltk\n",
    "from nltk.tokenize import PunktSentenceTokenizer\n"
   ]
  },
  {
   "cell_type": "code",
   "execution_count": null,
   "metadata": {},
   "outputs": [],
   "source": [
    "# Function to clean text using DeepSeek-R1\n",
    "def clean_text_with_deepseek(text):\n",
    "    prompt = f\"\"\"\n",
    "    You are a real estate data cleaning assistant. Your task is to remove irrelevant information from property descriptions, such as contact details, HTML tags, promotional content, or anything unrelated to the property itself. Return only the cleaned description.\n",
    "\n",
    "    Input: {text}\n",
    "    Cleaned Description:\n",
    "    \"\"\"\n",
    "    inputs = tokenizer(prompt, return_tensors=\"pt\", truncation=True, max_length=512)\n",
    "    outputs = model.generate(**inputs, max_length=200, temperature=0.1, num_return_sequences=1)\n",
    "    cleaned_text = tokenizer.decode(outputs[0], skip_special_tokens=True)\n",
    "    return cleaned_text\n",
    "\n",
    "# Example usage\n",
    "text = \"<p>3-bedroom house <br>Contact: john@example.com</p>\"\n",
    "cleaned_text = clean_text_with_deepseek(text)\n",
    "print(cleaned_text)"
   ]
  },
  {
   "cell_type": "code",
   "execution_count": 2,
   "metadata": {},
   "outputs": [],
   "source": [
    "data = pd.read_parquet(\"../data/processed/processed.parquet\")"
   ]
  },
  {
   "cell_type": "code",
   "execution_count": 3,
   "metadata": {},
   "outputs": [
    {
     "data": {
      "text/plain": [
       "0        Stylish two bedroom two bathroom apartment wit...\n",
       "1        Ambassador are pleased to offer this recently ...\n",
       "2        SHORT LET - A modern one bedroom apartment for...\n",
       "3        Property Reference: 2288318.Spacious two bedro...\n",
       "4        Lexadon are excited to bring a high spec one d...\n",
       "                               ...                        \n",
       "28503    LONG LET. A wonderful 2 bedroom flat boasting ...\n",
       "28504    Stirling Ackroyd are proud to present this goo...\n",
       "28505    Situated on the 8th floor of Lockgate Lodge, t...\n",
       "28506    This smart one bedroom ground floor flat offer...\n",
       "28507    A rare opportunity to be the tenant of this ex...\n",
       "Name: description, Length: 28508, dtype: object"
      ]
     },
     "execution_count": 3,
     "metadata": {},
     "output_type": "execute_result"
    }
   ],
   "source": [
    "data[\"description\"]"
   ]
  },
  {
   "cell_type": "code",
   "execution_count": 4,
   "metadata": {},
   "outputs": [],
   "source": [
    "# ChatGPT generated Noizy Property Data to test \n",
    "\n",
    "noise_data_generated = [ \"\"\"\n",
    "\n",
    "Check out this amazing 2-bedroom apartment in the heart of the city with a fully-equipped kitchen! \n",
    "It’s just a short walk from the subway and close to all major shopping centers. Don't miss this fantastic opportunity. \n",
    "Contact us for more information at 0800-123-REAL. \n",
    "Visit https://realestate.com/listing456 to book a viewing.\n",
    "\"\"\"\n",
    ",\n",
    "\"\"\"\n",
    "A beautiful 3-bedroom house located in a family-friendly neighborhood. Enjoy a large garden and off-road parking! \n",
    "The house is walking distance from local schools and parks, making it ideal for families. \n",
    "Call us today at 0207-456-789 for a viewing or visit our website at www.exampleproperty.com.\n",
    "\"\"\"\n",
    ",\n",
    "\"\"\"\n",
    "Modern studio apartment available in the city center, just 5 minutes from the train station. \n",
    "It features an open-plan living area, a compact kitchen, and a private bathroom. Perfect for city workers! \n",
    "Get in touch now to schedule a tour. \n",
    "For more details, check our listing on https://www.realtysite.com/listing789.\n",
    "\"\"\"\n",
    ",\n",
    "\"\"\"\n",
    "This stylish 1-bedroom flat offers contemporary living in the bustling heart of London. \n",
    "It is well connected by public transport, with buses and trains just a stone’s throw away. \n",
    "If you're interested in this flat, reach out to us at info@luxuryapartments.com or call 0800-999-000.\n",
    "\"\"\"\n",
    ",\n",
    "\n",
    "\"\"\"\n",
    "Spacious 4-bedroom family home with a large garden and private driveway. The house features a cozy living room with a fireplace. \n",
    "Located in a peaceful neighborhood, this property is perfect for a growing family. \n",
    "Contact us today at +44 123-456-7890 for more information or visit our site for a virtual tour: www.familyhomes.com.\n",
    "\"\"\"\n",
    ",\n",
    "\n",
    "\"\"\"\n",
    "Fantastic 2-bedroom apartment with amazing views over the city skyline! Located near public transport, shops, and restaurants. \n",
    "This apartment also includes high-speed internet, perfect for remote workers. \n",
    "Book a viewing now at our website or contact our agent via WhatsApp at +44 700-123-456.\n",
    "\"\"\"\n",
    ",\n",
    "\"\"\"\n",
    "Charming 5-bedroom house with a large backyard, perfect for hosting family gatherings. The property is fully furnished and move-in ready. \n",
    "Located near a golf course and walking trails, this house is ideal for nature lovers. \n",
    "Call 0207-123-4567 to schedule a viewing or email info@dreamhomes.com.\n",
    "\"\"\"\n",
    ",\n",
    "\"\"\"\n",
    "Newly renovated 3-bedroom flat with a modern kitchen and stylish interiors. \n",
    "Located in the city’s most vibrant district, this apartment is within walking distance to cafes, shops, and art galleries. \n",
    "Visit our website for more details and to view our current offers: www.cityliving.com.\n",
    "\"\"\"\n",
    ",\n",
    "\n",
    "\"\"\"\n",
    "Gorgeous 2-bedroom flat in a historic building with original architectural features. \n",
    "This property combines old-world charm with modern conveniences and is perfect for those who love character. \n",
    "Book a tour today at info@historichomes.com or call +44 123-456-7890.\n",
    "\"\"\"\n",
    ",\n",
    "\n",
    "\"\"\"\n",
    "Spacious penthouse apartment with stunning views over the city and the river. It includes a private balcony and high-end appliances. \n",
    "Perfect for anyone seeking a luxurious lifestyle. \n",
    "For more information, contact us via email at penthouseview@luxuryhomes.com or call us at 0800-LUXURY-01.\n",
    "\"\"\"]"
   ]
  },
  {
   "cell_type": "code",
   "execution_count": 5,
   "metadata": {},
   "outputs": [],
   "source": [
    "def simple_text_clean(text):\n",
    "      \n",
    "    url_pattern = r\"http[s]?://(?:[a-zA-Z]|[0-9]|[$-_@.&+]|[!*\\\\(\\\\),]|(?:%[0-9a-fA-F][0-9a-fA-F]))+\"\n",
    "    re.sub(url_pattern, \"\", text)\n",
    "    \n",
    "    tokenizer_sentences = PunktSentenceTokenizer()\n",
    "    # Define the list of boilerplate phrases\n",
    "    boilerplate_phrases = [\n",
    "          \"contact\", \"for more info\", \"call\", \"viewings\",\"visit\",\n",
    "          \"arrange\", \"available now\", \"great investment\", \"schedule\",\n",
    "          \"agent\", \"short let\", \"long let\", \"terms\",\"income\",\"photo\",\"please note\"]\n",
    "\n",
    "    # Tokenize the text into sentences\n",
    "    sentences = tokenizer_sentences.tokenize(text)\n",
    "    \n",
    "    # Remove sentences containing boilerplate phrases\n",
    "    cleaned_sentences = [sentence for sentence in sentences if not any(phrase in sentence.lower() for phrase in boilerplate_phrases)]\n",
    "    \n",
    "    return cleaned_sentences"
   ]
  },
  {
   "cell_type": "code",
   "execution_count": 6,
   "metadata": {},
   "outputs": [
    {
     "data": {
      "text/plain": [
       "\"\\n\\nCheck out this amazing 2-bedroom apartment in the heart of the city with a fully-equipped kitchen! \\nIt’s just a short walk from the subway and close to all major shopping centers. Don't miss this fantastic opportunity. \\nContact us for more information at 0800-123-REAL. \\nVisit https://realestate.com/listing456 to book a viewing.\\n\""
      ]
     },
     "execution_count": 6,
     "metadata": {},
     "output_type": "execute_result"
    }
   ],
   "source": [
    "noise_data_generated[0]"
   ]
  },
  {
   "cell_type": "code",
   "execution_count": 7,
   "metadata": {},
   "outputs": [
    {
     "data": {
      "text/plain": [
       "['\\n\\nCheck out this amazing 2-bedroom apartment in the heart of the city with a fully-equipped kitchen!',\n",
       " 'It’s just a short walk from the subway and close to all major shopping centers.',\n",
       " \"Don't miss this fantastic opportunity.\"]"
      ]
     },
     "execution_count": 7,
     "metadata": {},
     "output_type": "execute_result"
    }
   ],
   "source": [
    "simple_text_clean(noise_data_generated[0])"
   ]
  },
  {
   "cell_type": "code",
   "execution_count": 8,
   "metadata": {},
   "outputs": [
    {
     "data": {
      "text/plain": [
       "'\\nA beautiful 3-bedroom house located in a family-friendly neighborhood. Enjoy a large garden and off-road parking! \\nThe house is walking distance from local schools and parks, making it ideal for families. \\nCall us today at 0207-456-789 for a viewing or visit our website at www.exampleproperty.com.\\n'"
      ]
     },
     "execution_count": 8,
     "metadata": {},
     "output_type": "execute_result"
    }
   ],
   "source": [
    "noise_data_generated[1]"
   ]
  },
  {
   "cell_type": "code",
   "execution_count": 9,
   "metadata": {},
   "outputs": [
    {
     "data": {
      "text/plain": [
       "['\\nA beautiful 3-bedroom house located in a family-friendly neighborhood.',\n",
       " 'Enjoy a large garden and off-road parking!',\n",
       " 'The house is walking distance from local schools and parks, making it ideal for families.']"
      ]
     },
     "execution_count": 9,
     "metadata": {},
     "output_type": "execute_result"
    }
   ],
   "source": [
    "simple_text_clean(noise_data_generated[1])"
   ]
  },
  {
   "cell_type": "code",
   "execution_count": 10,
   "metadata": {},
   "outputs": [
    {
     "data": {
      "text/plain": [
       "'\\nCharming 5-bedroom house with a large backyard, perfect for hosting family gatherings. The property is fully furnished and move-in ready. \\nLocated near a golf course and walking trails, this house is ideal for nature lovers. \\nCall 0207-123-4567 to schedule a viewing or email info@dreamhomes.com.\\n'"
      ]
     },
     "execution_count": 10,
     "metadata": {},
     "output_type": "execute_result"
    }
   ],
   "source": [
    "text_test = noise_data_generated[-4]\n",
    "text_test"
   ]
  },
  {
   "cell_type": "code",
   "execution_count": 11,
   "metadata": {},
   "outputs": [
    {
     "name": "stdout",
     "output_type": "stream",
     "text": [
      "\n",
      "Charming 5-bedroom house with a large backyard, perfect for hosting family gatherings.\n",
      "The property is fully furnished and move-in ready.\n",
      "Located near a golf course and walking trails, this house is ideal for nature lovers.\n"
     ]
    }
   ],
   "source": [
    "print(\"\\n\".join(simple_text_clean(text_test)))"
   ]
  },
  {
   "cell_type": "code",
   "execution_count": 12,
   "metadata": {},
   "outputs": [
    {
     "name": "stdout",
     "output_type": "stream",
     "text": [
      "SHORT LET. A fantastic 2 bedroom 2nd and 3rd floor flat, situated within an attractive period conversion, offering stunning contemporary interiors and located in the sought-after area of Hampstead.Situated moments from the local amenities of Finchley Road, while the trendy shops, bars and restaurants of Hampstead are nearby. Please use the reference CHPK1240434 when contacting Foxtons.\n"
     ]
    }
   ],
   "source": [
    "text_test = data[\"description\"].loc[4000]\n",
    "\n",
    "print(text_test)"
   ]
  },
  {
   "cell_type": "code",
   "execution_count": 13,
   "metadata": {},
   "outputs": [
    {
     "name": "stdout",
     "output_type": "stream",
     "text": [
      "A fantastic 2 bedroom 2nd and 3rd floor flat, situated within an attractive period conversion, offering stunning contemporary interiors and located in the sought-after area of Hampstead.Situated moments from the local amenities of Finchley Road, while the trendy shops, bars and restaurants of Hampstead are nearby.\n"
     ]
    }
   ],
   "source": [
    "print(\"\\n\".join(simple_text_clean(text_test)))"
   ]
  },
  {
   "cell_type": "code",
   "execution_count": 14,
   "metadata": {},
   "outputs": [
    {
     "data": {
      "text/plain": [
       "'LONG LET. An exquisite three bedroom house just moments away from the Centre of Kingston boasts fantastic living space, a beautiful marble kitchen with modern appliances and three spacious bedrooms.Grange Road is ideally located just moments from Kingston Centre and the wide veriety of amenities, bars and reataurants it has to offer, as well as being just down the from from Kingston University. Please use the reference CHPK2918094 when contacting Foxtons.'"
      ]
     },
     "execution_count": 14,
     "metadata": {},
     "output_type": "execute_result"
    }
   ],
   "source": [
    "text_test = data[\"description\"].loc[2300]\n",
    "text_test"
   ]
  },
  {
   "cell_type": "code",
   "execution_count": 15,
   "metadata": {},
   "outputs": [
    {
     "name": "stdout",
     "output_type": "stream",
     "text": [
      "An exquisite three bedroom house just moments away from the Centre of Kingston boasts fantastic living space, a beautiful marble kitchen with modern appliances and three spacious bedrooms.Grange Road is ideally located just moments from Kingston Centre and the wide veriety of amenities, bars and reataurants it has to offer, as well as being just down the from from Kingston University.\n"
     ]
    }
   ],
   "source": [
    "print(\"\\n\".join(simple_text_clean(text_test)))"
   ]
  },
  {
   "cell_type": "code",
   "execution_count": 16,
   "metadata": {},
   "outputs": [
    {
     "name": "stdout",
     "output_type": "stream",
     "text": [
      "LONG LET. A modern studio apartment in a brand new building boasting a sleek fitted kitchen, bright and airy interior and a well presented bedroom.Lockgate Lodge is set in a brand new development close to a wide range of amenities found in Lewisham as well as superb transport links from Lewisham DLR and Rail Station. Please use the reference B2RC5269320 when contacting Foxtons.\n"
     ]
    }
   ],
   "source": [
    "text_test = data[\"description\"].loc[457]\n",
    "\n",
    "print(text_test)"
   ]
  },
  {
   "cell_type": "code",
   "execution_count": 17,
   "metadata": {},
   "outputs": [
    {
     "name": "stdout",
     "output_type": "stream",
     "text": [
      "A modern studio apartment in a brand new building boasting a sleek fitted kitchen, bright and airy interior and a well presented bedroom.Lockgate Lodge is set in a brand new development close to a wide range of amenities found in Lewisham as well as superb transport links from Lewisham DLR and Rail Station.\n"
     ]
    }
   ],
   "source": [
    "print(\"\\n\".join(simple_text_clean(text_test)))"
   ]
  },
  {
   "cell_type": "code",
   "execution_count": 18,
   "metadata": {},
   "outputs": [
    {
     "name": "stdout",
     "output_type": "stream",
     "text": [
      "Looking for a 2 bed apartment to share with your best friend? Somewhere you can work from home without being under each others feet? We've got an amazing apartment with a *4 WEEKS RENT FREE\" offer and co-working spaces for you to use! \n",
      "\n",
      "ADVERTISED RENT INCLUDES £2293.85 ANNUAL DISCOUNT FOR THE UNFURNISHED UNIT - EXCLUSIVE JANUARY OFFER**Concession* Price based on 12 contract with 4 Weeks rent free included. After 4 weeks rent free the monthly cost will be £2293.85 Terms & Conditions apply*.\n",
      " \n",
      "Ten Degrees is located in the heart of Croydon, opposite Boxpark and East Croydon Station. Take a direct train to London Bridge and London Victoria Station in 15 minutes or Gatwick in 15 minutes.\n",
      " \n",
      "Greystar are delighted to introduce our  1, 2 and 3 bedroom apartments at Ten Degrees - located conveniently opposite East Croydon Station. Ten degrees offers 43 floors of premium rental apartment with a lifestyle to match.\n",
      " \n",
      "Our pet friendly apartments available furnished or unfurnished are designed to the highest specification with floor to ceiling windows, Amtico flooring and spacious open plan living area complete with stylish bespoke furniture. Kitchens are equipped with integrated SMEG appliances, Silestone worktops and wall-mounted microwave. Bathrooms are complete with a modern design featuring overhead rain shower, tiled walls and floors and wall-mounted mirror storage. Bedrooms are comfortably furnished with double or king size beds, plush carpets, built in wardrobes and bedside tables. All apartments come WIFI ready so you can move in without the fuss.\n",
      " \n",
      " \n",
      "Our residents can enjoy a range of services available and ten social spaces including:\n",
      " \n",
      "*\tPet Friendly Apartments \n",
      "*\tFlexible workspace\n",
      "*\tScreening Room\n",
      "*\t24/7 Onsite Team\n",
      "*\tGarden Terrace\n",
      "*\tResident Events\n",
      "*\tSky Lounge\n",
      "*\tRooftop Gym\n",
      "*\tYoga Room\n",
      "*\tGames Lounge\n",
      "*\tPet Spa\n",
      "*\tParcel Collection Services\n",
      " \n",
      "Price furnished - £2,485\n",
      "4 weeks concession - £2293.85 (Only for 12 month leases)\n",
      " \n",
      "*Income must be over 2.66 x the annual rent to pass referencing checks\n",
      ",\n",
      "Please note photos are for illustrative and indicative purposes only. Individual apartment features and layouts may vary.\n",
      " \n",
      "Virtual Tours Available - Contact us now to arrange a viewing\n"
     ]
    }
   ],
   "source": [
    "text_test = data[\"description\"].loc[123]\n",
    "\n",
    "print(text_test)"
   ]
  },
  {
   "cell_type": "code",
   "execution_count": 19,
   "metadata": {},
   "outputs": [
    {
     "name": "stdout",
     "output_type": "stream",
     "text": [
      "Looking for a 2 bed apartment to share with your best friend?\n",
      "Somewhere you can work from home without being under each others feet?\n",
      "We've got an amazing apartment with a *4 WEEKS RENT FREE\" offer and co-working spaces for you to use!\n",
      "ADVERTISED RENT INCLUDES £2293.85 ANNUAL DISCOUNT FOR THE UNFURNISHED UNIT - EXCLUSIVE JANUARY OFFER**Concession* Price based on 12 contract with 4 Weeks rent free included.\n",
      "Ten Degrees is located in the heart of Croydon, opposite Boxpark and East Croydon Station.\n",
      "Take a direct train to London Bridge and London Victoria Station in 15 minutes or Gatwick in 15 minutes.\n",
      "Greystar are delighted to introduce our  1, 2 and 3 bedroom apartments at Ten Degrees - located conveniently opposite East Croydon Station.\n",
      "Ten degrees offers 43 floors of premium rental apartment with a lifestyle to match.\n",
      "Our pet friendly apartments available furnished or unfurnished are designed to the highest specification with floor to ceiling windows, Amtico flooring and spacious open plan living area complete with stylish bespoke furniture.\n",
      "Kitchens are equipped with integrated SMEG appliances, Silestone worktops and wall-mounted microwave.\n",
      "Bathrooms are complete with a modern design featuring overhead rain shower, tiled walls and floors and wall-mounted mirror storage.\n",
      "Bedrooms are comfortably furnished with double or king size beds, plush carpets, built in wardrobes and bedside tables.\n",
      "All apartments come WIFI ready so you can move in without the fuss.\n",
      "Individual apartment features and layouts may vary.\n"
     ]
    }
   ],
   "source": [
    "print(\"\\n\".join(simple_text_clean(text_test)))"
   ]
  },
  {
   "cell_type": "code",
   "execution_count": 20,
   "metadata": {},
   "outputs": [
    {
     "data": {
      "text/plain": [
       "\"Indulge in the epitome of luxury living with this stunning two bedroom penthouse apartment in the vibrant City Road, Clerkenwell. Boasting a host of impressive features, this spacious property is sure to captivate even the most discerning of individuals.Step into the inviting semi open-planned lounge and kitchen area, which offers a versatile space for both relaxation and entertaining. The contemporary design is enhanced by floor-to-ceiling windows, bathing the property in an abundance of natural light and offering breathtaking views of the surrounding cityscape.The sleek and modern kitchen is fully equipped with state-of-the-art appliances, making cooking a delight for any culinary enthusiast. The spacious lounge seamlessly extends onto a private balcony, perfect for enjoying a morning coffee or evening drink while taking in the stunning urban panorama.Escape to tranquility with the private roof terrace, a true oasis high above the hustle and bustle of the city. Here, you can bask in the glorious sunshine, host a barbecue, or simply unwind with a good book while enjoying the panoramic views spanning across the iconic London skyline.The two spacious bedrooms provide comfort and relaxation, with ample storage space for all your belongings. The master bedroom features an en-suite bathroom, exuding elegance and equipped with modern fixtures and fittings. A second modern bathroom serves the second bedroom and guests, ensuring convenience and privacy for everyone living in or visiting this magnificent property.Residents of this desirable development benefit from a 24-hour concierge service, providing peace of mind and security. Stay fit and healthy in the fully equipped gymnasium, conveniently located within the building, offering state-of-the-art facilities for all your exercise needs.Situated in an ideal location, this property offers easy access to both Old Street and Angel Station, making travelling to other areas of the city a breeze. The local area offers an array of amenities, including trendy bars, restaurants, and shops, ensuring that you are never far from everything this vibrant city has to offer.Don't miss this opportunity to experience luxury living in the heart of London. Contact us now to arrange a viewing of this extraordinary penthouse apartment and envision yourself living in style and sophistication.\""
      ]
     },
     "execution_count": 20,
     "metadata": {},
     "output_type": "execute_result"
    }
   ],
   "source": [
    "text_test = data.iloc[1002][\"description\"]\n",
    "text_test"
   ]
  },
  {
   "cell_type": "code",
   "execution_count": 21,
   "metadata": {},
   "outputs": [
    {
     "name": "stdout",
     "output_type": "stream",
     "text": [
      "Indulge in the epitome of luxury living with this stunning two bedroom penthouse apartment in the vibrant City Road, Clerkenwell.\n",
      "Boasting a host of impressive features, this spacious property is sure to captivate even the most discerning of individuals.Step into the inviting semi open-planned lounge and kitchen area, which offers a versatile space for both relaxation and entertaining.\n",
      "The contemporary design is enhanced by floor-to-ceiling windows, bathing the property in an abundance of natural light and offering breathtaking views of the surrounding cityscape.The sleek and modern kitchen is fully equipped with state-of-the-art appliances, making cooking a delight for any culinary enthusiast.\n",
      "The spacious lounge seamlessly extends onto a private balcony, perfect for enjoying a morning coffee or evening drink while taking in the stunning urban panorama.Escape to tranquility with the private roof terrace, a true oasis high above the hustle and bustle of the city.\n",
      "Here, you can bask in the glorious sunshine, host a barbecue, or simply unwind with a good book while enjoying the panoramic views spanning across the iconic London skyline.The two spacious bedrooms provide comfort and relaxation, with ample storage space for all your belongings.\n",
      "The master bedroom features an en-suite bathroom, exuding elegance and equipped with modern fixtures and fittings.\n",
      "Stay fit and healthy in the fully equipped gymnasium, conveniently located within the building, offering state-of-the-art facilities for all your exercise needs.Situated in an ideal location, this property offers easy access to both Old Street and Angel Station, making travelling to other areas of the city a breeze.\n",
      "The local area offers an array of amenities, including trendy bars, restaurants, and shops, ensuring that you are never far from everything this vibrant city has to offer.Don't miss this opportunity to experience luxury living in the heart of London.\n"
     ]
    }
   ],
   "source": [
    "print(\"\\n\".join(simple_text_clean(text_test)))"
   ]
  },
  {
   "cell_type": "code",
   "execution_count": 22,
   "metadata": {},
   "outputs": [
    {
     "data": {
      "text/plain": [
       "'Located on the 3rd floor of Egremont House, this light and bright, two bedroom, two bathroom home is available to rent fully-furnished from January.This East Village apartment sits\\xa0less than five minutes’ walk to Stratford station making the morning commute a breeze. The double bedrooms \\xa0come complete with built-in wardrobes, a chest of draws and side-tables. While kitchens are fully integrated with appliances including a multi-functional oven and induction hob. A private balcony \\xa0connects the open plan kitchen and living area to the great outdoors.Wi-Fi is included and set up for when you move in, getting you connected right away. All Get Living homes have an energy efficiency rating of B or C, helping conserve energy for the planet, and your pocket. Being connected to the district heating and hot water system means no space-hogging boiler in your home, but please note that this means you cannot switch supplier. \\xa0Additional information:Please note photos are for illustrative purposes only - layouts and features may varyPet friendly – all applicants with a pet must sign our pet policy agreement\\xa0Hyperoptic Wi-Fi is included in the rental price, though residents do have the option to change provider should they wishAll other utilities including electricity, heating and hot water to be paid separately by the resident(s) directly to the providerA metered water supply is provided by Thames Water and charged based on usageHeating and hot water is provided by East London Energy (ELE) and is charged by household usage. Thermostats can be controlled within the home.On-site parking and storage pods are available to rent at additional cost and subject to availability – please ask our team for more informationCouncil tax band - this property is within band D\\xa0(Newham Council)\\xa0Monthly rental cost advertised is based on 36-month tenancies, with break clause. For 12-month tenancies, please speak to our teamA Security Deposit equal to five weeks’ rent, may be payable for this property. The deposit will be held by the Tenancy Deposit Scheme:   \\xa0All Get Living buildings have access to a lift and all entryways have level thresholds, making them accessible for wheelchair users and the ambulant disabledGet Living has been granted planning permission to provide a further homes for rent and student accommodation in East Village, and an improved public realm. For more detailed information visit Queen Elizabeth Olympic Park’s Planning Register.\\t\\xa0'"
      ]
     },
     "execution_count": 22,
     "metadata": {},
     "output_type": "execute_result"
    }
   ],
   "source": [
    "text_test = data.iloc[8002][\"description\"]\n",
    "text_test"
   ]
  },
  {
   "cell_type": "code",
   "execution_count": 23,
   "metadata": {},
   "outputs": [
    {
     "name": "stdout",
     "output_type": "stream",
     "text": [
      "Located on the 3rd floor of Egremont House, this light and bright, two bedroom, two bathroom home is available to rent fully-furnished from January.This East Village apartment sits less than five minutes’ walk to Stratford station making the morning commute a breeze.\n",
      "The double bedrooms  come complete with built-in wardrobes, a chest of draws and side-tables.\n",
      "While kitchens are fully integrated with appliances including a multi-functional oven and induction hob.\n",
      "A private balcony  connects the open plan kitchen and living area to the great outdoors.Wi-Fi is included and set up for when you move in, getting you connected right away.\n",
      "All Get Living homes have an energy efficiency rating of B or C, helping conserve energy for the planet, and your pocket.\n",
      "For 12-month tenancies, please speak to our teamA Security Deposit equal to five weeks’ rent, may be payable for this property.\n",
      "The deposit will be held by the Tenancy Deposit Scheme:    All Get Living buildings have access to a lift and all entryways have level thresholds, making them accessible for wheelchair users and the ambulant disabledGet Living has been granted planning permission to provide a further homes for rent and student accommodation in East Village, and an improved public realm.\n"
     ]
    }
   ],
   "source": [
    "print(\"\\n\".join(simple_text_clean(text_test)))"
   ]
  },
  {
   "cell_type": "code",
   "execution_count": 24,
   "metadata": {},
   "outputs": [
    {
     "data": {
      "text/plain": [
       "\"  PK Properties are delighted to offer this FULLY REFURBISHED 1 Bedroom Ground Floor Flat located walking distance to Harrow town centre.\\xa0  Accommodation compromises of 1 Double Bedroom, Living Room, New Fitted Kitchen with appliances. Benefits include Gas Central Heating, Laminteed flooring throughout, Brand new fully tilled bathroom suite. Please Contact our Letting Team on   for a viewing or on What's App on   to view an internal videoAvailable UN Furnished with immediate occupation.\\xa0  Local Area:The flat is located within in walking distance to West Harrow and Harrow on The Hill Station, well connected to Central London via the metropolitan Line and National Rail station and vast indoor and outdoor shopping outlets, and many more highly rated cafe's, restaurants and food chains. Also within close proximity to a variety of convenient Super stores, perfect for all your everyday shopping including Tesco's, Morrison's Iceland and post office.\\xa0  Further Details:Council Tax: Harrow Council Band C, £2032 per annumApplicants: Sorry NO  or  **Please note that it is a standard requirement for any Applicant before moving into a property to provide at least One Month`s Deposit, One Month`s Rent, satisfactory References.**\\xa0\""
      ]
     },
     "execution_count": 24,
     "metadata": {},
     "output_type": "execute_result"
    }
   ],
   "source": [
    "text_test = data.iloc[456][\"description\"]\n",
    "text_test"
   ]
  },
  {
   "cell_type": "code",
   "execution_count": 25,
   "metadata": {},
   "outputs": [
    {
     "name": "stdout",
     "output_type": "stream",
     "text": [
      "  PK Properties are delighted to offer this FULLY REFURBISHED 1 Bedroom Ground Floor Flat located walking distance to Harrow town centre.\n",
      "Accommodation compromises of 1 Double Bedroom, Living Room, New Fitted Kitchen with appliances.\n",
      "Benefits include Gas Central Heating, Laminteed flooring throughout, Brand new fully tilled bathroom suite.\n",
      "Local Area:The flat is located within in walking distance to West Harrow and Harrow on The Hill Station, well connected to Central London via the metropolitan Line and National Rail station and vast indoor and outdoor shopping outlets, and many more highly rated cafe's, restaurants and food chains.\n",
      "Also within close proximity to a variety of convenient Super stores, perfect for all your everyday shopping including Tesco's, Morrison's Iceland and post office.\n",
      "**\n"
     ]
    }
   ],
   "source": [
    "print(\"\\n\".join(simple_text_clean(text_test)))"
   ]
  },
  {
   "cell_type": "code",
   "execution_count": 26,
   "metadata": {},
   "outputs": [
    {
     "name": "stdout",
     "output_type": "stream",
     "text": [
      "  PK Properties are delighted to offer this FULLY REFURBISHED 1 Bedroom Ground Floor Flat located walking distance to Harrow town centre.\n",
      "Accommodation compromises of 1 Double Bedroom, Living Room, New Fitted Kitchen with appliances.\n",
      "Benefits include Gas Central Heating, Laminteed flooring throughout, Brand new fully tilled bathroom suite.\n",
      "Local Area:The flat is located within in walking distance to West Harrow and Harrow on The Hill Station, well connected to Central London via the metropolitan Line and National Rail station and vast indoor and outdoor shopping outlets, and many more highly rated cafe's, restaurants and food chains.\n",
      "Also within close proximity to a variety of convenient Super stores, perfect for all your everyday shopping including Tesco's, Morrison's Iceland and post office.\n",
      "**\n"
     ]
    }
   ],
   "source": [
    "print(\"\\n\".join(simple_text_clean(text_test)))"
   ]
  },
  {
   "cell_type": "markdown",
   "metadata": {},
   "source": [
    "LLM case "
   ]
  },
  {
   "cell_type": "code",
   "execution_count": 27,
   "metadata": {},
   "outputs": [
    {
     "data": {
      "text/plain": [
       "'Spacious 3 bedroom first floor flat * 2 double bedrooms, 1 single bedroom* bright and airy separate reception area* partly tilled bathroom* Property has access to a lot of storage space* direct access to fitted kitchen from the reception* Access to off road parkingFURNISHED/UNFURNISHED ~ AVAILABLE 3 OCTOBER'"
      ]
     },
     "execution_count": 27,
     "metadata": {},
     "output_type": "execute_result"
    }
   ],
   "source": [
    "text_test = data.iloc[17809][\"description\"]\n",
    "text_test"
   ]
  },
  {
   "cell_type": "code",
   "execution_count": 28,
   "metadata": {},
   "outputs": [
    {
     "name": "stdout",
     "output_type": "stream",
     "text": [
      "Spacious 3 bedroom first floor flat * 2 double bedrooms, 1 single bedroom* bright and airy separate reception area* partly tilled bathroom* Property has access to a lot of storage space* direct access to fitted kitchen from the reception* Access to off road parkingFURNISHED/UNFURNISHED ~ AVAILABLE 3 OCTOBER\n"
     ]
    }
   ],
   "source": [
    "print(\"\\n\".join(simple_text_clean(text_test)))"
   ]
  },
  {
   "cell_type": "code",
   "execution_count": 29,
   "metadata": {},
   "outputs": [
    {
     "data": {
      "text/plain": [
       "'With a private entrance foyer, lift access to all floors, and a daytime porter, Trentham Court offers a sophisticated, secure, and convenient living experience.  This recently refurbished and spacious one-bedroom apartment is superbly located just moments from North Acton Station, providing excellent Central Line connections to Central London. The development features well-maintained communal gardens and enjoys South East-facing views, while local amenities, including grocery stores, restaurants, and takeaways, are conveniently situated just across the road.  Finished to the highest standards, the apartment includes a fully integrated kitchen with a fridge freezer, electric hob, cooker hood, and microwave, offering everything you need for modern living. For added convenience, the property is also equipped with a washer/dryer.  Early viewings are highly recommended—contact one of our Property Consultants today to arrange a visit.'"
      ]
     },
     "execution_count": 29,
     "metadata": {},
     "output_type": "execute_result"
    }
   ],
   "source": [
    "text_test = data.iloc[3567][\"description\"]\n",
    "text_test"
   ]
  },
  {
   "cell_type": "code",
   "execution_count": 30,
   "metadata": {},
   "outputs": [
    {
     "name": "stdout",
     "output_type": "stream",
     "text": [
      "With a private entrance foyer, lift access to all floors, and a daytime porter, Trentham Court offers a sophisticated, secure, and convenient living experience.\n",
      "This recently refurbished and spacious one-bedroom apartment is superbly located just moments from North Acton Station, providing excellent Central Line connections to Central London.\n",
      "The development features well-maintained communal gardens and enjoys South East-facing views, while local amenities, including grocery stores, restaurants, and takeaways, are conveniently situated just across the road.\n",
      "Finished to the highest standards, the apartment includes a fully integrated kitchen with a fridge freezer, electric hob, cooker hood, and microwave, offering everything you need for modern living.\n",
      "For added convenience, the property is also equipped with a washer/dryer.\n"
     ]
    }
   ],
   "source": [
    "print(\"\\n\".join(simple_text_clean(text_test)))"
   ]
  },
  {
   "cell_type": "code",
   "execution_count": 31,
   "metadata": {},
   "outputs": [
    {
     "data": {
      "text/plain": [
       "'A Georgian semi-detatched house to rent on Braywood Road, SE9. This house is with plenty of features including off-street parking, private garden, side access & More. Book in to view now!This stylish property is with two separate reception rooms on the ground floor giving great space for relaxing and intimate dining or an alternative reception room. The kitchen is separate from both rooms ideal for avid cookers with space for cooking and more in this Galley kitchen looking out to the private garden.The upper floor of the house is comprised of three bedrooms, two of which are sizeable doubles and another additional bedroom.Fitted with a family bathroom with bath tub and overhead shower. 0.1m to Falconwood station and close to Eltham High Street! Unfurnished and available now, this is not to be missed! To check broadband and mobile phone coverage please visit Ofcom here ofcom.org.uk/phones-telecoms-and-internet/advice-for-consumers/advice/ofcom-checker'"
      ]
     },
     "execution_count": 31,
     "metadata": {},
     "output_type": "execute_result"
    }
   ],
   "source": [
    "text_test = data.iloc[87][\"description\"]\n",
    "text_test"
   ]
  },
  {
   "cell_type": "code",
   "execution_count": 32,
   "metadata": {},
   "outputs": [
    {
     "name": "stdout",
     "output_type": "stream",
     "text": [
      "A Georgian semi-detatched house to rent on Braywood Road, SE9.\n",
      "This house is with plenty of features including off-street parking, private garden, side access & More.\n",
      "Book in to view now!This stylish property is with two separate reception rooms on the ground floor giving great space for relaxing and intimate dining or an alternative reception room.\n",
      "The kitchen is separate from both rooms ideal for avid cookers with space for cooking and more in this Galley kitchen looking out to the private garden.The upper floor of the house is comprised of three bedrooms, two of which are sizeable doubles and another additional bedroom.Fitted with a family bathroom with bath tub and overhead shower.\n",
      "0.1m to Falconwood station and close to Eltham High Street!\n"
     ]
    }
   ],
   "source": [
    "print(\"\\n\".join(simple_text_clean(text_test)))"
   ]
  },
  {
   "cell_type": "code",
   "execution_count": 33,
   "metadata": {},
   "outputs": [
    {
     "data": {
      "text/plain": [
       "\"Are you looking for a stunning two bedroom apartment in the vibrant area of Stratford, E20? Look no further! This contemporary property is now available for rent and offers a range of attractive features.Situated on Montfichet Road, this apartment benefits from a convenient location that is surrounded by a multitude of amenities. With Westfield just around the corner, you'll have easy access to an abundance of shops, restaurants, and entertainment options right on your doorstep. Whether you're in the mood for a day of shopping or a night out with friends, everything you need is just a stone's throw away.As you step into the apartment, you'll immediately notice the plethora of natural light flooding through the large windows, creating a bright and airy atmosphere throughout the space. This beautiful feature enhances the modern finishing and complements the contemporary design of the property.The generous open-plan living area provides a perfect space for relaxation and entertainment, with plenty of room for a comfortable seating area and a dining table. The sleek, fully-fitted kitchen is equipped with high-quality appliances and ample storage space, making cooking and food preparation a breeze.The two bedrooms in this apartment are both well-sized and offer a peaceful retreat for a good night's sleep. The master bedroom features an ensuite bathroom, providing privacy and convenience. Additionally, there is a second bathroom with modern fixtures and fittings, ensuring that there's no need to wait in line in the morning rush.This apartment also benefits from a modern finish throughout, giving it a stylish and luxurious feel. The attention to detail and quality craftsmanship is evident in every corner of the property, creating a space that you will truly be proud to call home.Furthermore, the location of this apartment is ideal for commuters. Stratford Tube Station is just a short walk away, providing easy access to the London Underground network and making your daily commute a breeze. Whether you need to travel to the city centre or explore other parts of London, you'll have excellent transport links right at your doorstep.Don't miss out on the opportunity to make this stunning two bedroom apartment your new home. Contact us today to arrange a viewing and experience the best of London living in the heart of Stratford. Get ready to be impressed by the modern finish, abundance of natural light, and the convenience of this prime location.\""
      ]
     },
     "execution_count": 33,
     "metadata": {},
     "output_type": "execute_result"
    }
   ],
   "source": [
    "text_test = data.iloc[6667][\"description\"]\n",
    "text_test"
   ]
  },
  {
   "cell_type": "code",
   "execution_count": 34,
   "metadata": {},
   "outputs": [
    {
     "name": "stdout",
     "output_type": "stream",
     "text": [
      "Are you looking for a stunning two bedroom apartment in the vibrant area of Stratford, E20?\n",
      "Look no further!\n",
      "This contemporary property is now available for rent and offers a range of attractive features.Situated on Montfichet Road, this apartment benefits from a convenient location that is surrounded by a multitude of amenities.\n",
      "With Westfield just around the corner, you'll have easy access to an abundance of shops, restaurants, and entertainment options right on your doorstep.\n",
      "Whether you're in the mood for a day of shopping or a night out with friends, everything you need is just a stone's throw away.As you step into the apartment, you'll immediately notice the plethora of natural light flooding through the large windows, creating a bright and airy atmosphere throughout the space.\n",
      "This beautiful feature enhances the modern finishing and complements the contemporary design of the property.The generous open-plan living area provides a perfect space for relaxation and entertainment, with plenty of room for a comfortable seating area and a dining table.\n",
      "The sleek, fully-fitted kitchen is equipped with high-quality appliances and ample storage space, making cooking and food preparation a breeze.The two bedrooms in this apartment are both well-sized and offer a peaceful retreat for a good night's sleep.\n",
      "The master bedroom features an ensuite bathroom, providing privacy and convenience.\n",
      "Additionally, there is a second bathroom with modern fixtures and fittings, ensuring that there's no need to wait in line in the morning rush.This apartment also benefits from a modern finish throughout, giving it a stylish and luxurious feel.\n",
      "Stratford Tube Station is just a short walk away, providing easy access to the London Underground network and making your daily commute a breeze.\n",
      "Whether you need to travel to the city centre or explore other parts of London, you'll have excellent transport links right at your doorstep.Don't miss out on the opportunity to make this stunning two bedroom apartment your new home.\n",
      "Get ready to be impressed by the modern finish, abundance of natural light, and the convenience of this prime location.\n"
     ]
    }
   ],
   "source": [
    "print(\"\\n\".join(simple_text_clean(text_test)))"
   ]
  },
  {
   "cell_type": "code",
   "execution_count": 35,
   "metadata": {},
   "outputs": [
    {
     "data": {
      "text/plain": [
       "0        [Stylish two bedroom two bathroom apartment wi...\n",
       "1        [Ambassador are pleased to offer this recently...\n",
       "2        [The flat has an open-plan kitchen/reception r...\n",
       "3        [** Request Details form responded to 24/7, wi...\n",
       "4        [Lexadon are excited to bring a high spec one ...\n",
       "                               ...                        \n",
       "28503    [A wonderful 2 bedroom flat boasting modern ac...\n",
       "28504    [Stirling Ackroyd are proud to present this go...\n",
       "28505    [Situated on the 8th floor of Lockgate Lodge, ...\n",
       "28506    [This smart one bedroom ground floor flat offe...\n",
       "28507    [A rare opportunity to be the tenant of this e...\n",
       "Name: description, Length: 28508, dtype: object"
      ]
     },
     "execution_count": 35,
     "metadata": {},
     "output_type": "execute_result"
    }
   ],
   "source": [
    "data[\"description\"].apply(lambda x: simple_text_clean(x))"
   ]
  }
 ],
 "metadata": {
  "kernelspec": {
   "display_name": ".rent_env",
   "language": "python",
   "name": "python3"
  },
  "language_info": {
   "codemirror_mode": {
    "name": "ipython",
    "version": 3
   },
   "file_extension": ".py",
   "mimetype": "text/x-python",
   "name": "python",
   "nbconvert_exporter": "python",
   "pygments_lexer": "ipython3",
   "version": "3.10.16"
  }
 },
 "nbformat": 4,
 "nbformat_minor": 2
}
